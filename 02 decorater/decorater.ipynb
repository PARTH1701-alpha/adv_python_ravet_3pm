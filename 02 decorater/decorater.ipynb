{
 "cells": [
  {
   "cell_type": "markdown",
   "metadata": {},
   "source": [
    "# Decorators \n",
    "1. Decorators takes any function as input \n",
    "2. Output of decorator is a moduified version of input function \n",
    "3. Output of decoraters is caller wrapper \n",
    "4. Main purpurpose of decorator is to modify the behaviour of any function \n"
   ]
  },
  {
   "cell_type": "markdown",
   "metadata": {},
   "source": [
    "# create a welcome decorater function which will welcome the user and tank the user at the end "
   ]
  },
  {
   "cell_type": "markdown",
   "metadata": {},
   "source": [
    "def welcom(fun):\n",
    "    "
   ]
  }
 ],
 "metadata": {
  "kernelspec": {
   "display_name": "venv",
   "language": "python",
   "name": "python3"
  },
  "language_info": {
   "name": "python",
   "version": "3.12.7"
  }
 },
 "nbformat": 4,
 "nbformat_minor": 2
}
